{
 "cells": [
  {
   "cell_type": "markdown",
   "metadata": {},
   "source": [
    "# École Polytechnique de Montréal\n",
    "\n",
    "Département Génie Informatique et Génie Logiciel\n",
    "INF8460 – Traitement automatique de la langue naturelle\n",
    "\n",
    "#### Prof. Amal Zouaq\n",
    "#### Chargé de laboratoire: Félix Martel"
   ]
  },
  {
   "cell_type": "markdown",
   "metadata": {},
   "source": [
    "# TP 3\n",
    "\n",
    "## Objectifs\n",
    "\n",
    " - Implanter des modèles de classification neuronaux\n",
    " - Utiliser des plongements lexicaux pré-entrainés\n"
   ]
  },
  {
   "cell_type": "markdown",
   "metadata": {},
   "source": [
    "## Travail à faire\n",
    "\n",
    "Comme dans le TP précédent, on va travailler sur l'analyse de sentiment en utilisant les données du [Large Movie Review Dataset](https://ai.stanford.edu/~amaas/data/sentiment/).\n",
    "\n",
    "Vous devez utiliser `scikit-learn` pour la régression logistique, et Keras pour les modèles neuronaux.\n",
    "\n",
    "Les sections 1, 2 et 3 sont indépendantes.\n",
    "\n",
    "Vous êtes libres d'appliquez les pré-traitements que vous jugerez utiles."
   ]
  },
  {
   "cell_type": "code",
   "execution_count": 1,
   "metadata": {},
   "outputs": [
    {
     "name": "stderr",
     "output_type": "stream",
     "text": [
      "Using TensorFlow backend.\n"
     ]
    }
   ],
   "source": [
    "import glob\n",
    "import matplotlib.pyplot as plt\n",
    "import nltk\n",
    "import numpy as np\n",
    "import re\n",
    "import string\n",
    "import time\n",
    "\n",
    "from collections import Counter\n",
    "from keras import Sequential\n",
    "from keras.layers import Bidirectional, Dense, Embedding, LSTM\n",
    "from keras.preprocessing import sequence\n",
    "from keras.preprocessing.text import Tokenizer\n",
    "from keras.utils import Sequence, to_categorical\n",
    "from nltk.corpus import stopwords\n",
    "from nltk.stem import WordNetLemmatizer \n",
    "from sklearn.feature_extraction.text import TfidfVectorizer\n",
    "from sklearn.model_selection import train_test_split"
   ]
  },
  {
   "cell_type": "code",
   "execution_count": 2,
   "metadata": {
    "scrolled": true
   },
   "outputs": [
    {
     "name": "stdout",
     "output_type": "stream",
     "text": [
      "[name: \"/device:CPU:0\"\n",
      "device_type: \"CPU\"\n",
      "memory_limit: 268435456\n",
      "locality {\n",
      "}\n",
      "incarnation: 12478351993663249959\n",
      ", name: \"/device:GPU:0\"\n",
      "device_type: \"GPU\"\n",
      "memory_limit: 6667798446\n",
      "locality {\n",
      "  bus_id: 1\n",
      "  links {\n",
      "  }\n",
      "}\n",
      "incarnation: 4406045663042826119\n",
      "physical_device_desc: \"device: 0, name: GeForce GTX 1070 Ti, pci bus id: 0000:02:00.0, compute capability: 6.1\"\n",
      "]\n"
     ]
    }
   ],
   "source": [
    "from tensorflow.python.client import device_lib\n",
    "print(device_lib.list_local_devices())"
   ]
  },
  {
   "cell_type": "markdown",
   "metadata": {},
   "source": [
    "### 1. Pré-traitement et lecture de données"
   ]
  },
  {
   "cell_type": "markdown",
   "metadata": {},
   "source": [
    "Ici, vous devez lire vos données et appliquez les pré-traitements que vous jugerez utiles"
   ]
  },
  {
   "cell_type": "code",
   "execution_count": 3,
   "metadata": {},
   "outputs": [],
   "source": [
    "DATA_TEST_POS = 0\n",
    "DATA_TEST_NEG = 1\n",
    "DATA_TRAIN_POS = 2\n",
    "DATA_TRAIN_NEG = 3"
   ]
  },
  {
   "cell_type": "code",
   "execution_count": 5,
   "metadata": {},
   "outputs": [],
   "source": [
    "def read_dataset():\n",
    "    path = \"./data/aclImdb\"\n",
    "    test_endpath = \"/test\"\n",
    "    train_endpath = \"/train\"\n",
    "\n",
    "    files_test_pos = glob.glob(path + test_endpath + \"/pos/*.txt\")\n",
    "    files_test_neg= glob.glob(path + test_endpath + \"/neg/*.txt\")\n",
    "    files_train_pos = glob.glob(path + train_endpath + \"/pos/*.txt\")\n",
    "    files_train_neg = glob.glob(path + train_endpath + \"/neg/*.txt\")\n",
    "    sections = [files_test_pos, files_test_neg, files_train_pos, files_train_neg]\n",
    "\n",
    "    #Each data is a list of strings(reviews)\n",
    "    data = [[], [], [], []]\n",
    "    for i, section in enumerate(sections):\n",
    "        for file in section:\n",
    "            try:\n",
    "                with open(file, encoding=\"utf8\") as f:\n",
    "                    data[i].append(f.read()) \n",
    "\n",
    "            except IOError as exc:\n",
    "                if exc.errno != errno.EISDIR:\n",
    "                    raise\n",
    "    \n",
    "    return data"
   ]
  },
  {
   "cell_type": "code",
   "execution_count": 6,
   "metadata": {},
   "outputs": [
    {
     "name": "stdout",
     "output_type": "stream",
     "text": [
      "Données lues\n",
      "Temps d'exécution: 129.66535997390747\n"
     ]
    }
   ],
   "source": [
    "start = time.time()\n",
    "data = read_dataset()\n",
    "end = time.time()\n",
    "\n",
    "print(\"Données lues\")\n",
    "print(\"Temps d'exécution: \" + str(end-start))"
   ]
  },
  {
   "cell_type": "markdown",
   "metadata": {},
   "source": [
    "Nos étapes de prétraitements sont la tokenisation, retirer les signes de ponctuations et les chiffres, convertir les mots en minuscule, retirer les stop words et garder les mots dont la longueur est superieure a 1"
   ]
  },
  {
   "cell_type": "code",
   "execution_count": 7,
   "metadata": {},
   "outputs": [],
   "source": [
    "stop_words = stopwords.words('english')\n",
    "tags_html = re.compile(r'<[^>]+>')\n",
    "\n",
    "def preprocess_review(review):\n",
    "    # Retirer les tags HTML\n",
    "    review = tags_html.sub('', review)\n",
    "    # Minuscule\n",
    "    review = review.lower()\n",
    "    # Retirer les signes de ponctuations et les chiffres\n",
    "    review = re.sub('[^a-zA-Z]', ' ', review)\n",
    "    # Tokenisation\n",
    "    words = nltk.word_tokenize(review)\n",
    "\n",
    "    pre_words = []\n",
    "    for word in words:\n",
    "        # Mot alphabetique, stop words et longueur de 1\n",
    "        if word.isalpha() and (word not in stop_words) and len(word) > 1:\n",
    "            pre_words.append(word)\n",
    "\n",
    "    return pre_words\n",
    "\n",
    "def clean_doc(data):\n",
    "    pre_data = [[],[],[],[],[]]\n",
    "    for i, dataset in enumerate(data):\n",
    "        for review in dataset:\n",
    "            pre_data[i].append(preprocess_review(review))\n",
    "    \n",
    "    return pre_data"
   ]
  },
  {
   "cell_type": "code",
   "execution_count": 8,
   "metadata": {},
   "outputs": [
    {
     "name": "stdout",
     "output_type": "stream",
     "text": [
      "Données pré-traitées\n",
      "Temps d'exécution: 45.12536382675171\n"
     ]
    }
   ],
   "source": [
    "start = time.time()\n",
    "preprocessed_data = clean_doc(data)\n",
    "end = time.time()\n",
    "\n",
    "print(\"Données pré-traitées\")\n",
    "print(\"Temps d'exécution: \" + str(end-start))"
   ]
  },
  {
   "cell_type": "code",
   "execution_count": 9,
   "metadata": {},
   "outputs": [],
   "source": [
    "def build_voc(n):\n",
    "    preprocessed_data_train = preprocessed_data[DATA_TRAIN_POS] + preprocessed_data[DATA_TRAIN_NEG]\n",
    "\n",
    "    counts = Counter(word for doc in preprocessed_data_train for word in doc)\n",
    "    \n",
    "    voc = {word for word, freq in counts.most_common(n)}\n",
    "    \n",
    "    return voc"
   ]
  },
  {
   "cell_type": "code",
   "execution_count": 10,
   "metadata": {},
   "outputs": [],
   "source": [
    "train_corpus = data[DATA_TRAIN_POS] + data[DATA_TRAIN_NEG]\n",
    "preprocessed_train_corpus = preprocessed_data[DATA_TRAIN_POS] + preprocessed_data[DATA_TRAIN_NEG]\n",
    "Y = np.concatenate((np.ones(len(data[DATA_TRAIN_POS])), np.zeros(len(data[DATA_TRAIN_NEG]))))"
   ]
  },
  {
   "cell_type": "markdown",
   "metadata": {},
   "source": [
    "### 2. Multi-layer Perceptron\n",
    "\n",
    "**a)** Ici, on vous demande d'entraîner un perceptron multi-couches sur la matrice TF-IDF. Avant l'entraînement, affichez la structure du modèle avec `model.summary()`. Précisez la structure du réseau de neurones (taille et nombre de couches) et les paramètres d'entraînement (optimiseur, nombre d'époques, etc.)."
   ]
  },
  {
   "cell_type": "code",
   "execution_count": 11,
   "metadata": {},
   "outputs": [],
   "source": [
    "MLP_VOCABULARY_LEN = 5000"
   ]
  },
  {
   "cell_type": "code",
   "execution_count": 12,
   "metadata": {},
   "outputs": [],
   "source": [
    "from keras.callbacks import EarlyStopping\n",
    "\n",
    "# EarlyStopping callback\n",
    "earlyStoppingCallback = EarlyStopping(monitor='val_accuracy', mode='max', patience=3)"
   ]
  },
  {
   "cell_type": "code",
   "execution_count": 13,
   "metadata": {},
   "outputs": [
    {
     "name": "stdout",
     "output_type": "stream",
     "text": [
      "Model: \"sequential_1\"\n",
      "_________________________________________________________________\n",
      "Layer (type)                 Output Shape              Param #   \n",
      "=================================================================\n",
      "dense_1 (Dense)              (None, 32)                160032    \n",
      "_________________________________________________________________\n",
      "dense_2 (Dense)              (None, 1)                 33        \n",
      "=================================================================\n",
      "Total params: 160,065\n",
      "Trainable params: 160,065\n",
      "Non-trainable params: 0\n",
      "_________________________________________________________________\n",
      "Train on 21250 samples, validate on 3750 samples\n",
      "Epoch 1/20\n",
      "21250/21250 [==============================] - 4s 171us/step - loss: 0.1144 - accuracy: 0.8646 - val_loss: 0.0827 - val_accuracy: 0.8851\n",
      "Epoch 2/20\n",
      "21250/21250 [==============================] - 3s 162us/step - loss: 0.0656 - accuracy: 0.9170 - val_loss: 0.0841 - val_accuracy: 0.8869\n",
      "Epoch 3/20\n",
      "21250/21250 [==============================] - 3s 163us/step - loss: 0.0547 - accuracy: 0.9316 - val_loss: 0.0872 - val_accuracy: 0.8819\n",
      "Epoch 4/20\n",
      "21250/21250 [==============================] - 3s 162us/step - loss: 0.0480 - accuracy: 0.9416 - val_loss: 0.0924 - val_accuracy: 0.8755\n",
      "Epoch 5/20\n",
      "21250/21250 [==============================] - 4s 166us/step - loss: 0.0424 - accuracy: 0.9523 - val_loss: 0.0970 - val_accuracy: 0.8720\n"
     ]
    }
   ],
   "source": [
    "# Construire le vocabulaire de 5000 unigrammes\n",
    "voc = build_voc(MLP_VOCABULARY_LEN)\n",
    "\n",
    "# Creer la matrice Tf-idf avec comme vocabulaire les 5000 plus grand unigrammes   \n",
    "vectorizer = TfidfVectorizer(vocabulary=voc)\n",
    "matrix_train_tfidf = vectorizer.fit_transform(train_corpus)\n",
    "\n",
    "# Create model\n",
    "mlp_model = Sequential([\n",
    "    Dense(32, input_shape=(matrix_train_tfidf.shape[1],), activation=\"relu\"),\n",
    "    Dense(1, activation=\"sigmoid\")\n",
    "])\n",
    "\n",
    "mlp_model.summary()\n",
    "\n",
    "mlp_model.compile(\n",
    "    optimizer=\"adam\",\n",
    "    loss=\"mean_squared_error\",\n",
    "    metrics=[\"accuracy\"]\n",
    ")\n",
    "\n",
    "X_train_mlp, X_val_mlp, y_train_mlp, y_val_mlp = train_test_split(matrix_train_tfidf,\n",
    "    Y, test_size=0.15)\n",
    "\n",
    "h_mlp = mlp_model.fit(X_train_mlp, y_train_mlp,\n",
    "        epochs=20,\n",
    "        batch_size=16, \n",
    "        validation_data=[X_val_mlp, y_val_mlp],\n",
    "        callbacks=[earlyStoppingCallback])\n",
    "    \n"
   ]
  },
  {
   "cell_type": "code",
   "execution_count": 14,
   "metadata": {
    "scrolled": true
   },
   "outputs": [
    {
     "data": {
      "image/png": "[encoded data removed]",
      "text/plain": [
       "<Figure size 432x288 with 1 Axes>"
      ]
     },
     "metadata": {
      "needs_background": "light"
     },
     "output_type": "display_data"
    }
   ],
   "source": [
    "plt.plot(h_mlp.history['accuracy'], label=\"Training set\")\n",
    "plt.plot(h_mlp.history['val_accuracy'],label=\"Validation set\")\n",
    "plt.title('Validation and training accuracy')\n",
    "plt.legend()\n",
    "plt.show()"
   ]
  },
  {
   "cell_type": "markdown",
   "metadata": {},
   "source": [
    "Dans cette partie, nous avons choisi de créer la matrice Tf-Idf avec comme vocabulaire les 5000 plus grand unigrammes afin de limiter le temps pour l'exécution de chaque époque. De plus, même en limitant le vocabulaire, le résultat du \"val_accuracy\" n'est pas affecté.\n",
    "Pour l'optimiseur, nous avons choisi adam. En effet, nous avons les meilleurs résultats avec cet optimiseur. Aussi, cet optimiseur tend à donner la plus haute valeur de \"val_accuracy\" dès les premières époques. C'est pour cette raison que nous avons ajouté un callback EarlyStopping. Après 3 époques, si la valeur de \"val_accuracy\" ne s'est pas amélioré, notre modèle va s'arrêter."
   ]
  },
  {
   "cell_type": "markdown",
   "metadata": {},
   "source": [
    "### 3. Bi-directional LSTM\n",
    "\n",
    "**b)** Toujours avec Keras, entraînez un modèle bi-LSTM sur le corpus d'entraînement. Comme précédemment, affichez la structure du réseau et indiquez les paramètres utiles.\n",
    "\n",
    "*Note :* si votre machine supporte CUDA, vous pouvez utiliser `keras.layers.CuDNNLSTM` au lieu de `keras.layers.LSTM` pour des gains de performance significatifs. Sur Google Colab, les environnements avec GPU supportent CUDA."
   ]
  },
  {
   "cell_type": "code",
   "execution_count": 15,
   "metadata": {},
   "outputs": [],
   "source": [
    "LSTM_VOCABULARY_LEN = 5000\n",
    "MAX_PADDING_SEQUENCE = 100"
   ]
  },
  {
   "cell_type": "code",
   "execution_count": 62,
   "metadata": {},
   "outputs": [],
   "source": [
    "class DataGenerator(Sequence):\n",
    "    def __init__(self, X, Y, batch_size=32, n_classes=LSTM_VOCABULARY_LEN):\n",
    "        self.batch_size = batch_size\n",
    "        self.Y = Y\n",
    "        self.X = X\n",
    "        self.n_classes = n_classes\n",
    "        self.on_epoch_end()\n",
    "\n",
    "    def __len__(self):\n",
    "        return int(np.floor(len(self.X) / self.batch_size))\n",
    "\n",
    "    def __getitem__(self, index):\n",
    "        indexes = self.indexes[index*self.batch_size:(index+1)*self.batch_size]\n",
    "        X_temp = [self.X[k] for k in indexes]\n",
    "        \n",
    "        Y = [self.Y[k] for k in indexes]\n",
    "        X = self.__data_generation(X_temp)\n",
    "\n",
    "        return X, Y\n",
    "\n",
    "    def on_epoch_end(self):\n",
    "        self.indexes = np.arange(len(self.X))\n",
    "\n",
    "    def __data_generation(self, X_temp):\n",
    "        return to_categorical(X_temp, num_classes=self.n_classes)"
   ]
  },
  {
   "cell_type": "code",
   "execution_count": 18,
   "metadata": {},
   "outputs": [
    {
     "name": "stdout",
     "output_type": "stream",
     "text": [
      "Model: \"sequential_2\"\n",
      "_________________________________________________________________\n",
      "Layer (type)                 Output Shape              Param #   \n",
      "=================================================================\n",
      "bidirectional_1 (Bidirection (None, 32)                642176    \n",
      "_________________________________________________________________\n",
      "dense_3 (Dense)              (None, 1)                 33        \n",
      "=================================================================\n",
      "Total params: 642,209\n",
      "Trainable params: 642,209\n",
      "Non-trainable params: 0\n",
      "_________________________________________________________________\n",
      "Epoch 1/20\n",
      "664/664 [==============================] - 119s 180ms/step - loss: 0.4480 - accuracy: 0.7837 - val_loss: 0.2924 - val_accuracy: 0.8507\n",
      "Epoch 2/20\n",
      "664/664 [==============================] - 120s 181ms/step - loss: 0.2879 - accuracy: 0.8787 - val_loss: 0.3561 - val_accuracy: 0.8341\n",
      "Epoch 3/20\n",
      "664/664 [==============================] - 119s 180ms/step - loss: 0.2361 - accuracy: 0.9040 - val_loss: 0.3306 - val_accuracy: 0.8499\n",
      "Epoch 4/20\n",
      "664/664 [==============================] - 120s 181ms/step - loss: 0.1954 - accuracy: 0.9220 - val_loss: 0.4458 - val_accuracy: 0.8512\n",
      "Epoch 5/20\n",
      "664/664 [==============================] - 120s 181ms/step - loss: 0.1555 - accuracy: 0.9404 - val_loss: 0.4955 - val_accuracy: 0.8371\n",
      "Epoch 6/20\n",
      "664/664 [==============================] - 121s 182ms/step - loss: 0.1309 - accuracy: 0.9524 - val_loss: 0.6495 - val_accuracy: 0.8371\n",
      "Epoch 7/20\n",
      "664/664 [==============================] - 121s 182ms/step - loss: 0.1024 - accuracy: 0.9634 - val_loss: 0.7389 - val_accuracy: 0.8395\n"
     ]
    }
   ],
   "source": [
    "# Separer les donnees en donnees d'entrainement et de validation\n",
    "X_train_lstm, X_val_lstm, y_train_lstm, y_val_lstm = train_test_split(train_corpus,\n",
    "    Y, test_size=0.15)\n",
    "\n",
    "# Convertir les textes en une matrice one hot\n",
    "tokenizer = Tokenizer(num_words=LSTM_VOCABULARY_LEN)\n",
    "tokenizer.fit_on_texts(train_corpus)\n",
    "X_train_lstm = tokenizer.texts_to_sequences(X_train_lstm)\n",
    "X_val_lstm = tokenizer.texts_to_sequences(X_val_lstm)\n",
    "# padding pour obtenir meme largeur de chaque vecteur\n",
    "X_train_lstm = sequence.pad_sequences(X_train_lstm, dtype=object, maxlen=MAX_PADDING_SEQUENCE)    \n",
    "X_val_lstm = sequence.pad_sequences(X_val_lstm, dtype=object, maxlen=MAX_PADDING_SEQUENCE)\n",
    "train_gen_lstm = DataGenerator(X_train_lstm, y_train_lstm)\n",
    "val_gen_lstm = DataGenerator(X_val_lstm, y_val_lstm)\n",
    "\n",
    "# Creer le modele LSTM\n",
    "lstm_model = Sequential()\n",
    "lstm_model.add(\n",
    "    Bidirectional(\n",
    "        LSTM(16),        \n",
    "        input_shape = (MAX_PADDING_SEQUENCE, LSTM_VOCABULARY_LEN)\n",
    "    )\n",
    ")\n",
    "lstm_model.add(\n",
    "    Dense(1, activation=\"sigmoid\")\n",
    ")\n",
    "lstm_model.compile(\n",
    "    optimizer=\"adam\",\n",
    "    loss=\"binary_crossentropy\",\n",
    "    metrics=['accuracy']\n",
    ")\n",
    "\n",
    "lstm_model.summary()\n",
    "\n",
    "h_lstm = lstm_model.fit_generator(\n",
    "    generator = train_gen_lstm, \n",
    "    epochs=20,\n",
    "    validation_data=val_gen_lstm,\n",
    "    use_multiprocessing=False,\n",
    "    initial_epoch=0,\n",
    "    callbacks=[earlyStoppingCallback]\n",
    ")"
   ]
  },
  {
   "cell_type": "code",
   "execution_count": 19,
   "metadata": {},
   "outputs": [
    {
     "data": {
      "image/png": "[encoded data removed]",
      "text/plain": [
       "<Figure size 432x288 with 1 Axes>"
      ]
     },
     "metadata": {
      "needs_background": "light"
     },
     "output_type": "display_data"
    }
   ],
   "source": [
    "plt.plot(h_lstm.history['accuracy'], label=\"Training set\")\n",
    "plt.plot(h_lstm.history['val_accuracy'],label=\"Validation set\")\n",
    "plt.title('Validation and training accuracy')\n",
    "plt.legend()\n",
    "plt.show()"
   ]
  },
  {
   "cell_type": "markdown",
   "metadata": {},
   "source": [
    "Dans cette partie, nous devons effectué une matrice one-hot. Par soucis d'économie de mémoire, nous avons décidé de limiter notre vocabulaire à 5000 mots. Aussi, encore par soucis d'économie de mémoire, la séquence dans le padding est limité à 100 mots. Comme ce fut le cas pour la partie MLP, limiter le vocabulaire est la séquence dans le padding n'affecte pas vraiment nos résultats de \"val_accuracy\". \n",
    "\n",
    "Pour l'optimiseur, encore une fois, nous avons choisi adam. En effet, nous avons les meilleurs résultats avec cet optimiseur. Comme pour la partie MLP, cet optimiseur tend à donner la plus haute valeur de \"val_accuracy\" dès les premières époques. C'est pour cette raison que nous avons ajouté un callback EarlyStopping. Après 3 époques, si la valeur de \"val_accuracy\" ne s'est pas amélioré, notre modèle va s'arrêter."
   ]
  },
  {
   "cell_type": "markdown",
   "metadata": {},
   "source": [
    "**c) Word Embeddings**\n",
    "\n",
    "Pour améliorer le modèle précédent, on va utiliser des *word embeddings* (ou plongements vectoriels) pré-entraînés. \n",
    "\n",
    "On utilisera un modèle Skip-gram de dimension $d=300$ entraîné sur English Wikipedia, disponible à l'adresse [http://vectors.nlpl.eu/explore/embeddings/en/models/](http://vectors.nlpl.eu/explore/embeddings/en/models/). Dans cette archive, vous trouverez les embeddings dans un fichier `.txt` tel que \n",
    "- la première ligne du fichier indique le nombre de mots dans le vocabulaire et la dimension des embeddings\n",
    "- chacune des lignes suivantes est composée d'un mot_étiquette grammaticale suivi des 300 coordonnées de son *embedding*, le tout séparé par des espaces. \n",
    "\n",
    "Ainsi, les premières lignes de ce fichier sont :\n",
    "```\n",
    "296630 300\n",
    "also_ADV -0.010121 -0.045202 -0.065609 ... -0.065423\n",
    "one_NUM -0.060427 0.005032 -0.076370 ... -0.107769\n",
    "first_ADJ 0.005799 0.024848 0.018902 ...  -0.097193\n",
    "...\n",
    "```\n",
    "\n",
    "Les étiquettes `_ADV`, `_NUM`, `_ADJ`, etc. indiquent l'étiquette grammaticale du mot et peuvent être supprimées pour ce TP.\n",
    "\n",
    "*Note :* vous pouvez utiliser le snippet suivant pour télécharger et dézipper automatiquement les embeddings (pratique si vous utilisez une machine distante comme Google Colab) :\n",
    "```python\n",
    "import requests\n",
    "import io\n",
    "from zipfile import ZipFile\n",
    "\n",
    "res = requests.get(\"http://link/to/archive.zip\")\n",
    "with ZipFile(io.BytesIO(res.content)) as z:\n",
    "  z.extractall(\"extract/to/dir/\")\n",
    "```\n",
    "\n",
    "\n",
    "Implémentez un modèle bi-LSTM qui utilisent ces *embeddings* pour représenter les mots d'une phrase. Vous pourrez utiliser le layer [Embedding](https://keras.io/layers/embeddings/) de Keras."
   ]
  },
  {
   "cell_type": "markdown",
   "metadata": {},
   "source": [
    "NOTE: J'ai modifie le fichier model.txt afin de retirer la premiere ligne 296630 300."
   ]
  },
  {
   "cell_type": "code",
   "execution_count": 20,
   "metadata": {},
   "outputs": [],
   "source": [
    "WIKI_VOCABULARY_LEN = 296630\n",
    "DIMENSION = 300"
   ]
  },
  {
   "cell_type": "code",
   "execution_count": 21,
   "metadata": {},
   "outputs": [],
   "source": [
    "# On lit le fichier model.txt\n",
    "# On met dans un dictionnaire les vecteurs reliés à chaque mot\n",
    "\n",
    "dictionnary_word2vec = {}\n",
    "with open(\"./model.txt\",'r', encoding=\"utf-8\") as f:\n",
    "    for line in f:\n",
    "        word2vec = line.split()\n",
    "        word = word2vec[0].split(\"_\")[0]\n",
    "        dictionnary_word2vec[word] = np.asarray(word2vec[1:], dtype = \"float32\")"
   ]
  },
  {
   "cell_type": "code",
   "execution_count": 22,
   "metadata": {},
   "outputs": [],
   "source": [
    "def get_embedding_matrix(tokenizer_indexes):\n",
    "    matrix_embedding = np.zeros((len(tokenizer_indexes) + 1, DIMENSION))\n",
    "    \n",
    "    for word, index in tokenizer_indexes.items():\n",
    "        word2vec = dictionnary_word2vec.get(word)\n",
    "        if word2vec is not None:\n",
    "            matrix_embedding[index] = word2vec\n",
    "\n",
    "    return matrix_embedding"
   ]
  },
  {
   "cell_type": "code",
   "execution_count": 26,
   "metadata": {},
   "outputs": [
    {
     "name": "stdout",
     "output_type": "stream",
     "text": [
      "Model: \"sequential_4\"\n",
      "_________________________________________________________________\n",
      "Layer (type)                 Output Shape              Param #   \n",
      "=================================================================\n",
      "embedding_2 (Embedding)      (None, 100, 300)          27367800  \n",
      "_________________________________________________________________\n",
      "bidirectional_3 (Bidirection (None, 64)                85248     \n",
      "_________________________________________________________________\n",
      "dense_5 (Dense)              (None, 1)                 65        \n",
      "=================================================================\n",
      "Total params: 27,453,113\n",
      "Trainable params: 85,313\n",
      "Non-trainable params: 27,367,800\n",
      "_________________________________________________________________\n",
      "Train on 21250 samples, validate on 3750 samples\n",
      "Epoch 1/20\n",
      "21250/21250 [==============================] - 21s 998us/step - loss: 0.5487 - accuracy: 0.7267 - val_loss: 0.4931 - val_accuracy: 0.7528\n",
      "Epoch 2/20\n",
      "21250/21250 [==============================] - 21s 971us/step - loss: 0.4431 - accuracy: 0.8001 - val_loss: 0.4227 - val_accuracy: 0.7957\n",
      "Epoch 3/20\n",
      "21250/21250 [==============================] - 21s 965us/step - loss: 0.4200 - accuracy: 0.8089 - val_loss: 0.4926 - val_accuracy: 0.7803\n",
      "Epoch 4/20\n",
      "21250/21250 [==============================] - 21s 973us/step - loss: 0.4013 - accuracy: 0.8220 - val_loss: 0.4016 - val_accuracy: 0.8088\n",
      "Epoch 5/20\n",
      "21250/21250 [==============================] - 20s 964us/step - loss: 0.3899 - accuracy: 0.8247 - val_loss: 0.5478 - val_accuracy: 0.7653\n",
      "Epoch 6/20\n",
      "21250/21250 [==============================] - 21s 971us/step - loss: 0.3899 - accuracy: 0.8264 - val_loss: 0.4686 - val_accuracy: 0.7984\n",
      "Epoch 7/20\n",
      "21250/21250 [==============================] - 21s 983us/step - loss: 0.3679 - accuracy: 0.8349 - val_loss: 0.4967 - val_accuracy: 0.7597\n"
     ]
    }
   ],
   "source": [
    "# Separer les donnees en donnees d'entrainement et de validation\n",
    "X_train_embedding, X_val_embedding, y_train_embedding, y_val_embedding = train_test_split(\n",
    "    preprocessed_train_corpus, Y, test_size=0.15)\n",
    "\n",
    "tokenizer.fit_on_texts(preprocessed_train_corpus)\n",
    "tokenizer_indexes = tokenizer.word_index\n",
    "\n",
    "X_train_embedding = tokenizer.texts_to_sequences(X_train_embedding)\n",
    "X_val_embedding = tokenizer.texts_to_sequences(X_val_embedding)    \n",
    "\n",
    "# padding pour obtenir meme largeur de chaque vecteur\n",
    "X_train_embedding = sequence.pad_sequences(X_train_embedding, dtype=object, maxlen=MAX_PADDING_SEQUENCE)\n",
    "X_val_embedding = sequence.pad_sequences(X_val_embedding, dtype=object, maxlen=MAX_PADDING_SEQUENCE)\n",
    "\n",
    "# Creation matrice embedding\n",
    "matrix_embedding = get_embedding_matrix(tokenizer_indexes)\n",
    "\n",
    "# Create the LSTM model\n",
    "lstm_model_embedding = Sequential()\n",
    "lstm_model_embedding.add(\n",
    "    Embedding(\n",
    "        len(tokenizer_indexes) + 1,\n",
    "        DIMENSION,\n",
    "        input_length = MAX_PADDING_SEQUENCE,\n",
    "        trainable=False,\n",
    "        weights=[matrix_embedding]\n",
    "    )\n",
    ")\n",
    "\n",
    "lstm_model_embedding.add(\n",
    "    Bidirectional(\n",
    "        LSTM(32),        \n",
    "        input_shape = (MAX_PADDING_SEQUENCE, 32)\n",
    "    )\n",
    ")\n",
    "\n",
    "lstm_model_embedding.add(Dense(1, activation=\"sigmoid\"))\n",
    "\n",
    "lstm_model_embedding.compile(\n",
    "    optimizer=\"adam\",\n",
    "    loss=\"binary_crossentropy\",\n",
    "    metrics=['accuracy']\n",
    ")\n",
    "\n",
    "lstm_model_embedding.summary()\n",
    "\n",
    "h_embedding = lstm_model_embedding.fit(X_train_embedding, y_train_embedding,\n",
    "        epochs=20,\n",
    "        batch_size=128, \n",
    "        validation_data=[\n",
    "            X_val_embedding,\n",
    "            y_val_embedding],\n",
    "        callbacks=[earlyStoppingCallback]\n",
    ")\n"
   ]
  },
  {
   "cell_type": "markdown",
   "metadata": {},
   "source": [
    "### 5. Évaluation"
   ]
  },
  {
   "cell_type": "markdown",
   "metadata": {},
   "source": [
    "**d)** Indiquez les performances de chacun de vos modèles. Comparez avec les modèles Naive Bayes et character-LM du TP précédent et commentez.\n",
    "\n",
    "Quel est votre meilleur modèle ?"
   ]
  },
  {
   "cell_type": "code",
   "execution_count": 27,
   "metadata": {},
   "outputs": [],
   "source": [
    "test_corpus = data[DATA_TEST_POS] + data[DATA_TEST_NEG]\n",
    "preprocessed_test_corpus = preprocessed_data[DATA_TEST_POS] + preprocessed_data[DATA_TEST_NEG]\n",
    "\n",
    "Y_test = np.concatenate((np.ones(len(data[DATA_TEST_POS])), np.zeros(len(data[DATA_TEST_NEG]))))"
   ]
  },
  {
   "cell_type": "code",
   "execution_count": 28,
   "metadata": {},
   "outputs": [
    {
     "name": "stdout",
     "output_type": "stream",
     "text": [
      "25000/25000 [==============================] - 2s 64us/step\n"
     ]
    }
   ],
   "source": [
    "# Evaluate MLP\n",
    "X_test_MLP = vectorizer.transform(test_corpus)\n",
    "evaluate_mlp = mlp_model.evaluate(X_test_MLP, Y_test)"
   ]
  },
  {
   "cell_type": "code",
   "execution_count": 31,
   "metadata": {},
   "outputs": [
    {
     "name": "stdout",
     "output_type": "stream",
     "text": [
      "Pour le modèle MLP\n",
      "La valeur de loss: 0.11113903087198734\n",
      "La valeur de accuracy: 0.8565599918365479\n"
     ]
    }
   ],
   "source": [
    "print(\"Pour le modèle MLP\")\n",
    "print(\"La valeur de loss: \" + str(evaluate_mlp[0]))\n",
    "print(\"La valeur de accuracy: \" + str(evaluate_mlp[1]))"
   ]
  },
  {
   "cell_type": "code",
   "execution_count": null,
   "metadata": {},
   "outputs": [],
   "source": [
    "print(len(test_corpus))"
   ]
  },
  {
   "cell_type": "code",
   "execution_count": 63,
   "metadata": {},
   "outputs": [
    {
     "name": "stdout",
     "output_type": "stream",
     "text": [
      "781/781 [==============================] - 82s 104ms/step\n"
     ]
    }
   ],
   "source": [
    "# Evaluate Bi-LSTM\n",
    "tokenizer.fit_on_texts(test_corpus)\n",
    "X_test_LSTM = tokenizer.texts_to_sequences(test_corpus)\n",
    "X_test_LSTM = sequence.pad_sequences(X_test_LSTM, dtype=object, maxlen = MAX_PADDING_SEQUENCE)\n",
    "test_gen_lstm = DataGenerator(X_test_LSTM, Y_test)\n",
    "\n",
    "evaluate_LSTM = lstm_model.evaluate_generator(\n",
    "    generator = test_gen_lstm,\n",
    "    use_multiprocessing=False,\n",
    "    workers=1,\n",
    "    verbose=1\n",
    ")"
   ]
  },
  {
   "cell_type": "code",
   "execution_count": 64,
   "metadata": {},
   "outputs": [
    {
     "name": "stdout",
     "output_type": "stream",
     "text": [
      "Pour le modèle Bi-directional LSTM\n",
      "La valeur de loss: 1.3840802907943726\n",
      "La valeur de accuracy: 0.5154449343681335\n"
     ]
    }
   ],
   "source": [
    "print(\"Pour le modèle Bi-directional LSTM\")\n",
    "print(\"La valeur de loss: \" + str(evaluate_LSTM[0]))\n",
    "print(\"La valeur de accuracy: \" + str(evaluate_LSTM[1]))"
   ]
  },
  {
   "cell_type": "code",
   "execution_count": 44,
   "metadata": {},
   "outputs": [
    {
     "name": "stdout",
     "output_type": "stream",
     "text": [
      "25000/25000 [==============================] - 42s 2ms/step\n"
     ]
    }
   ],
   "source": [
    "# Evaluate Bi-LSTM avec embedding\n",
    "X_test_embedding = tokenizer.texts_to_sequences(preprocessed_test_corpus)\n",
    "X_test_embedding = sequence.pad_sequences(X_test_embedding, dtype=object, maxlen = MAX_PADDING_SEQUENCE)\n",
    "evaluate_LSTM_emdedding = lstm_model_embedding.evaluate(X_test_embedding, Y_test)"
   ]
  },
  {
   "cell_type": "code",
   "execution_count": 45,
   "metadata": {},
   "outputs": [
    {
     "name": "stdout",
     "output_type": "stream",
     "text": [
      "Pour le modèle Bi-directional LSTM avec embedding\n",
      "La valeur de loss: 0.4977879947400093\n",
      "La valeur de accuracy: 0.7587199807167053\n"
     ]
    }
   ],
   "source": [
    "print(\"Pour le modèle Bi-directional LSTM avec embedding\")\n",
    "print(\"La valeur de loss: \" + str(evaluate_LSTM_emdedding[0]))\n",
    "print(\"La valeur de accuracy: \" + str(evaluate_LSTM_emdedding[1]))"
   ]
  },
  {
   "cell_type": "markdown",
   "metadata": {},
   "source": [
    "Les word embeddings permettent d'améliorer le résultat du modèle Bi-directional LSTM. Par contre, nous avons essayé de construire notre matrice des word embeddings basé sur le corpus et non la base de données de Wikipedia. Lorsque nous avons fait ce test, on obtenait un validation accuracy d'environ 90%, ce qui est encore plus performant que nos résultats actuels. \n",
    "\n",
    "Le modèle MLP est celui dont la durée d'entrainement est le plus rapide. Vu que notre modèle Bi-directional LSTM a beaucoup plus de données, il est normal qu'il soit beaucoup plus long à entrainer.  \n",
    "\n",
    "Dans le TP précédent, on avait comme meilleur modèle le modèle BOW_Naive. Son accuracy était de 0.87. Si l'on compare, avec chacun des trois modèles de ce laboratoire, il est le plus performant. \n",
    "\n",
    "Plusieurs paramètres peuvent expliquer ce résultat. En effet, ce qui nous est demandé n'est pas très complexe. En effet, Naive Bayes utilise un modèle de sac de mots (bag of words) pour représenter les différents reviews. Par conséquent, si le modèle voit des mots du genre \"bad\", il va conclure que c'est un review négatif.\n",
    "Les trois modèles de ce laboratoire nécessitent de voir la connexion entre chaque mot.\n",
    "\n",
    "De plus, il aurait pu être intéressant de jouer avec les hyperparamètres des différents modèles."
   ]
  }
 ],
 "metadata": {
  "kernelspec": {
   "display_name": "Python 3",
   "language": "python",
   "name": "python3"
  },
  "language_info": {
   "codemirror_mode": {
    "name": "ipython",
    "version": 3
   },
   "file_extension": ".py",
   "mimetype": "text/x-python",
   "name": "python",
   "nbconvert_exporter": "python",
   "pygments_lexer": "ipython3",
   "version": "3.7.1"
  }
 },
 "nbformat": 4,
 "nbformat_minor": 2
}
